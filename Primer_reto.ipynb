{
  "nbformat": 4,
  "nbformat_minor": 0,
  "metadata": {
    "colab": {
      "name": "Primer_reto.ipynb",
      "provenance": [],
      "toc_visible": true,
      "authorship_tag": "ABX9TyNpCypGuIOPWe29vhEmC/dW",
      "include_colab_link": true
    },
    "kernelspec": {
      "name": "python3",
      "display_name": "Python 3"
    }
  },
  "cells": [
    {
      "cell_type": "markdown",
      "metadata": {
        "id": "view-in-github",
        "colab_type": "text"
      },
      "source": [
        "<a href=\"https://colab.research.google.com/github/lolaorostegui/RetosDataChallengeFem/blob/main/Primer_reto.ipynb\" target=\"_parent\"><img src=\"https://colab.research.google.com/assets/colab-badge.svg\" alt=\"Open In Colab\"/></a>"
      ]
    },
    {
      "cell_type": "markdown",
      "metadata": {
        "id": "9sWXIvxPWE3B"
      },
      "source": [
        "# **Primer reto**\n",
        "**Task:**\n",
        "Given an integer, , perform the following conditional actions:\n",
        "\n",
        "If  is odd, print Weird\n",
        "If  is even and in the inclusive range of  to , print Not Weird\n",
        "If  is even and in the inclusive range of  to , print Weird\n",
        "If  is even and greater than , print Not Weird\n",
        "\n",
        "**Solución**:\n",
        "\n",
        "Un numero par se expresa como 2n y un numero impar como 2n+1. Un numero par al dividirse por dos el residuo debe ser cero. Para obtener el residuo de una división se usa el modulo(%), por lo cual al preguntar si el residuo de n entre 2 es diferente de 0, entonces el numero es impar."
      ]
    },
    {
      "cell_type": "code",
      "metadata": {
        "colab": {
          "base_uri": "https://localhost:8080/"
        },
        "id": "KVYCH7J5O9K7",
        "outputId": "523b09f0-8f55-4ddb-93ea-bb68b08481f2"
      },
      "source": [
        "#!/bin/python3\n",
        "\n",
        "import math\n",
        "import os\n",
        "import random\n",
        "import re\n",
        "import sys\n",
        "\n",
        "def isodd(n):\n",
        "#If n is odd, print Weird\n",
        "    if n%2 != 0:\n",
        "        print('Weird')\n",
        "#If  is even and in the inclusive range of 2 to 5, print Not Weird\n",
        "    elif 2 <= n <= 5:\n",
        "        print('Not Weird')\n",
        "#If  is even and in the inclusive range of  6 to 20, print Weird\n",
        "    elif 6 <= n and n <= 20:\n",
        "        print('Weird')\n",
        "#If  is even and greater than 20, print Not Weird\n",
        "    else :\n",
        "        print('Not Weird')\n",
        "\n",
        "n = input()\n",
        "isodd(int(n))"
      ],
      "execution_count": null,
      "outputs": [
        {
          "output_type": "stream",
          "text": [
            "3\n",
            "Weird\n"
          ],
          "name": "stdout"
        }
      ]
    },
    {
      "cell_type": "markdown",
      "metadata": {
        "id": "-uD37njiXDx8"
      },
      "source": [
        "# Segundo reto\n",
        "**Task**:\n",
        "\n",
        "1.   Both players are given the same string\n",
        "2.   Both players have to make substrings using the letters of the string\n",
        "\n",
        "1.   Stuart has to make words starting with consonants.\n",
        "Kevin has to make words starting with vowels.\n",
        "\n",
        "1.   The game ends when both players have made all possible substrings.\n",
        "\n",
        "1.   A player gets +1 point for each occurrence of the substring in the string ."
      ]
    },
    {
      "cell_type": "code",
      "metadata": {
        "colab": {
          "base_uri": "https://localhost:8080/"
        },
        "id": "9HI1GbrrX6nr",
        "outputId": "c878b36c-2910-40e7-dd3e-dfd75a5154d6"
      },
      "source": [
        "def minion_game(word):\n",
        "\n",
        "    vowls = ['A','E','I','O','U'] \n",
        "    score = 0\n",
        "    score2 = 0\n",
        "\n",
        "    wordtrans=list(word)\n",
        "\n",
        "    for x,a in enumerate(wordtrans) :\n",
        "      \n",
        "        if a in vowls:\n",
        "       \n",
        "            newword=a\n",
        "            score = score + 1\n",
        "            for j,b in enumerate(wordtrans) :\n",
        "               if x < j and b:\n",
        "                \n",
        "                newword = newword + wordtrans[j]\n",
        "                score = score + 1\n",
        "\n",
        "        else : \n",
        "\n",
        "          if a not in vowls:\n",
        "             \n",
        "                newword=a\n",
        "                score2 = score2 + 1\n",
        "                for j,b in enumerate(wordtrans) :\n",
        "                  if x < j and b:\n",
        "                    \n",
        "                    newword = newword + wordtrans[j]\n",
        "                    score2 = score2 + 1\n",
        "\n",
        "    if score == score2:\n",
        "      print('Draw')\n",
        "    elif  score > score2:\n",
        "      print('Kevin '+str(score))   \n",
        "    else: print('Stuart '+str(score2)) \n",
        "\n",
        "if __name__ == '__main__':\n",
        "    s = input()\n",
        "    minion_game(s)"
      ],
      "execution_count": 122,
      "outputs": [
        {
          "output_type": "stream",
          "text": [
            "BANANA\n",
            "Stuart 12\n"
          ],
          "name": "stdout"
        }
      ]
    }
  ]
}